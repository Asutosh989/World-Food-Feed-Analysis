{
 "cells": [
  {
   "cell_type": "code",
   "execution_count": 1,
   "metadata": {
    "collapsed": true
   },
   "outputs": [],
   "source": [
    "import pandas as pd\n",
    "import numpy as np\n",
    "import matplotlib.pyplot as plt\n",
    "% matplotlib inline"
   ]
  },
  {
   "cell_type": "code",
   "execution_count": 2,
   "metadata": {
    "collapsed": true
   },
   "outputs": [],
   "source": [
    "df = pd.read_csv('./FAO.csv', encoding='latin1')"
   ]
  },
  {
   "cell_type": "code",
   "execution_count": 3,
   "metadata": {},
   "outputs": [
    {
     "data": {
      "text/html": [
       "<div>\n",
       "<style>\n",
       "    .dataframe thead tr:only-child th {\n",
       "        text-align: right;\n",
       "    }\n",
       "\n",
       "    .dataframe thead th {\n",
       "        text-align: left;\n",
       "    }\n",
       "\n",
       "    .dataframe tbody tr th {\n",
       "        vertical-align: top;\n",
       "    }\n",
       "</style>\n",
       "<table border=\"1\" class=\"dataframe\">\n",
       "  <thead>\n",
       "    <tr style=\"text-align: right;\">\n",
       "      <th></th>\n",
       "      <th>Area Abbreviation</th>\n",
       "      <th>Area Code</th>\n",
       "      <th>Area</th>\n",
       "      <th>Item Code</th>\n",
       "      <th>Item</th>\n",
       "      <th>Element Code</th>\n",
       "      <th>Element</th>\n",
       "      <th>Unit</th>\n",
       "      <th>latitude</th>\n",
       "      <th>longitude</th>\n",
       "      <th>...</th>\n",
       "      <th>Y2004</th>\n",
       "      <th>Y2005</th>\n",
       "      <th>Y2006</th>\n",
       "      <th>Y2007</th>\n",
       "      <th>Y2008</th>\n",
       "      <th>Y2009</th>\n",
       "      <th>Y2010</th>\n",
       "      <th>Y2011</th>\n",
       "      <th>Y2012</th>\n",
       "      <th>Y2013</th>\n",
       "    </tr>\n",
       "  </thead>\n",
       "  <tbody>\n",
       "    <tr>\n",
       "      <th>0</th>\n",
       "      <td>AFG</td>\n",
       "      <td>2</td>\n",
       "      <td>Afghanistan</td>\n",
       "      <td>2511</td>\n",
       "      <td>Wheat and products</td>\n",
       "      <td>5142</td>\n",
       "      <td>Food</td>\n",
       "      <td>1000 tonnes</td>\n",
       "      <td>33.94</td>\n",
       "      <td>67.71</td>\n",
       "      <td>...</td>\n",
       "      <td>3249.0</td>\n",
       "      <td>3486.0</td>\n",
       "      <td>3704.0</td>\n",
       "      <td>4164.0</td>\n",
       "      <td>4252.0</td>\n",
       "      <td>4538.0</td>\n",
       "      <td>4605.0</td>\n",
       "      <td>4711.0</td>\n",
       "      <td>4810</td>\n",
       "      <td>4895</td>\n",
       "    </tr>\n",
       "    <tr>\n",
       "      <th>1</th>\n",
       "      <td>AFG</td>\n",
       "      <td>2</td>\n",
       "      <td>Afghanistan</td>\n",
       "      <td>2805</td>\n",
       "      <td>Rice (Milled Equivalent)</td>\n",
       "      <td>5142</td>\n",
       "      <td>Food</td>\n",
       "      <td>1000 tonnes</td>\n",
       "      <td>33.94</td>\n",
       "      <td>67.71</td>\n",
       "      <td>...</td>\n",
       "      <td>419.0</td>\n",
       "      <td>445.0</td>\n",
       "      <td>546.0</td>\n",
       "      <td>455.0</td>\n",
       "      <td>490.0</td>\n",
       "      <td>415.0</td>\n",
       "      <td>442.0</td>\n",
       "      <td>476.0</td>\n",
       "      <td>425</td>\n",
       "      <td>422</td>\n",
       "    </tr>\n",
       "    <tr>\n",
       "      <th>2</th>\n",
       "      <td>AFG</td>\n",
       "      <td>2</td>\n",
       "      <td>Afghanistan</td>\n",
       "      <td>2513</td>\n",
       "      <td>Barley and products</td>\n",
       "      <td>5521</td>\n",
       "      <td>Feed</td>\n",
       "      <td>1000 tonnes</td>\n",
       "      <td>33.94</td>\n",
       "      <td>67.71</td>\n",
       "      <td>...</td>\n",
       "      <td>58.0</td>\n",
       "      <td>236.0</td>\n",
       "      <td>262.0</td>\n",
       "      <td>263.0</td>\n",
       "      <td>230.0</td>\n",
       "      <td>379.0</td>\n",
       "      <td>315.0</td>\n",
       "      <td>203.0</td>\n",
       "      <td>367</td>\n",
       "      <td>360</td>\n",
       "    </tr>\n",
       "    <tr>\n",
       "      <th>3</th>\n",
       "      <td>AFG</td>\n",
       "      <td>2</td>\n",
       "      <td>Afghanistan</td>\n",
       "      <td>2513</td>\n",
       "      <td>Barley and products</td>\n",
       "      <td>5142</td>\n",
       "      <td>Food</td>\n",
       "      <td>1000 tonnes</td>\n",
       "      <td>33.94</td>\n",
       "      <td>67.71</td>\n",
       "      <td>...</td>\n",
       "      <td>185.0</td>\n",
       "      <td>43.0</td>\n",
       "      <td>44.0</td>\n",
       "      <td>48.0</td>\n",
       "      <td>62.0</td>\n",
       "      <td>55.0</td>\n",
       "      <td>60.0</td>\n",
       "      <td>72.0</td>\n",
       "      <td>78</td>\n",
       "      <td>89</td>\n",
       "    </tr>\n",
       "    <tr>\n",
       "      <th>4</th>\n",
       "      <td>AFG</td>\n",
       "      <td>2</td>\n",
       "      <td>Afghanistan</td>\n",
       "      <td>2514</td>\n",
       "      <td>Maize and products</td>\n",
       "      <td>5521</td>\n",
       "      <td>Feed</td>\n",
       "      <td>1000 tonnes</td>\n",
       "      <td>33.94</td>\n",
       "      <td>67.71</td>\n",
       "      <td>...</td>\n",
       "      <td>120.0</td>\n",
       "      <td>208.0</td>\n",
       "      <td>233.0</td>\n",
       "      <td>249.0</td>\n",
       "      <td>247.0</td>\n",
       "      <td>195.0</td>\n",
       "      <td>178.0</td>\n",
       "      <td>191.0</td>\n",
       "      <td>200</td>\n",
       "      <td>200</td>\n",
       "    </tr>\n",
       "  </tbody>\n",
       "</table>\n",
       "<p>5 rows × 63 columns</p>\n",
       "</div>"
      ],
      "text/plain": [
       "  Area Abbreviation  Area Code         Area  Item Code  \\\n",
       "0               AFG          2  Afghanistan       2511   \n",
       "1               AFG          2  Afghanistan       2805   \n",
       "2               AFG          2  Afghanistan       2513   \n",
       "3               AFG          2  Afghanistan       2513   \n",
       "4               AFG          2  Afghanistan       2514   \n",
       "\n",
       "                       Item  Element Code Element         Unit  latitude  \\\n",
       "0        Wheat and products          5142    Food  1000 tonnes     33.94   \n",
       "1  Rice (Milled Equivalent)          5142    Food  1000 tonnes     33.94   \n",
       "2       Barley and products          5521    Feed  1000 tonnes     33.94   \n",
       "3       Barley and products          5142    Food  1000 tonnes     33.94   \n",
       "4        Maize and products          5521    Feed  1000 tonnes     33.94   \n",
       "\n",
       "   longitude  ...     Y2004   Y2005   Y2006   Y2007   Y2008   Y2009   Y2010  \\\n",
       "0      67.71  ...    3249.0  3486.0  3704.0  4164.0  4252.0  4538.0  4605.0   \n",
       "1      67.71  ...     419.0   445.0   546.0   455.0   490.0   415.0   442.0   \n",
       "2      67.71  ...      58.0   236.0   262.0   263.0   230.0   379.0   315.0   \n",
       "3      67.71  ...     185.0    43.0    44.0    48.0    62.0    55.0    60.0   \n",
       "4      67.71  ...     120.0   208.0   233.0   249.0   247.0   195.0   178.0   \n",
       "\n",
       "    Y2011  Y2012  Y2013  \n",
       "0  4711.0   4810   4895  \n",
       "1   476.0    425    422  \n",
       "2   203.0    367    360  \n",
       "3    72.0     78     89  \n",
       "4   191.0    200    200  \n",
       "\n",
       "[5 rows x 63 columns]"
      ]
     },
     "execution_count": 3,
     "metadata": {},
     "output_type": "execute_result"
    }
   ],
   "source": [
    "df.head()"
   ]
  },
  {
   "cell_type": "code",
   "execution_count": 4,
   "metadata": {},
   "outputs": [
    {
     "data": {
      "text/plain": [
       "array(['Food', 'Feed'], dtype=object)"
      ]
     },
     "execution_count": 4,
     "metadata": {},
     "output_type": "execute_result"
    }
   ],
   "source": [
    "df['Element'].unique()"
   ]
  },
  {
   "cell_type": "code",
   "execution_count": 5,
   "metadata": {
    "collapsed": true
   },
   "outputs": [],
   "source": [
    "# Extracting all the year data\n",
    "year_list = df.iloc[:,df.columns.str.startswith('Y')].columns"
   ]
  },
  {
   "cell_type": "code",
   "execution_count": 6,
   "metadata": {
    "collapsed": true
   },
   "outputs": [],
   "source": [
    "# Extracting the last ten years\n",
    "year_list = year_list[len(year_list)-10:len(year_list)]"
   ]
  },
  {
   "cell_type": "code",
   "execution_count": 7,
   "metadata": {
    "collapsed": true
   },
   "outputs": [],
   "source": [
    "# Getting a general idea of Food and Feed of all Countries yearwise\n",
    "df_new = df.pivot_table(values=year_list, columns='Element',index=['Area'], aggfunc='sum')"
   ]
  },
  {
   "cell_type": "code",
   "execution_count": 8,
   "metadata": {},
   "outputs": [
    {
     "data": {
      "text/html": [
       "<div>\n",
       "<style>\n",
       "    .dataframe thead tr:only-child th {\n",
       "        text-align: right;\n",
       "    }\n",
       "\n",
       "    .dataframe thead th {\n",
       "        text-align: left;\n",
       "    }\n",
       "\n",
       "    .dataframe tbody tr th {\n",
       "        vertical-align: top;\n",
       "    }\n",
       "</style>\n",
       "<table border=\"1\" class=\"dataframe\">\n",
       "  <thead>\n",
       "    <tr>\n",
       "      <th></th>\n",
       "      <th colspan=\"2\" halign=\"left\">Y2004</th>\n",
       "      <th colspan=\"2\" halign=\"left\">Y2005</th>\n",
       "      <th colspan=\"2\" halign=\"left\">Y2006</th>\n",
       "      <th colspan=\"2\" halign=\"left\">Y2007</th>\n",
       "      <th colspan=\"2\" halign=\"left\">Y2008</th>\n",
       "      <th colspan=\"2\" halign=\"left\">Y2009</th>\n",
       "      <th colspan=\"2\" halign=\"left\">Y2010</th>\n",
       "      <th colspan=\"2\" halign=\"left\">Y2011</th>\n",
       "      <th colspan=\"2\" halign=\"left\">Y2012</th>\n",
       "      <th colspan=\"2\" halign=\"left\">Y2013</th>\n",
       "    </tr>\n",
       "    <tr>\n",
       "      <th>Element</th>\n",
       "      <th>Feed</th>\n",
       "      <th>Food</th>\n",
       "      <th>Feed</th>\n",
       "      <th>Food</th>\n",
       "      <th>Feed</th>\n",
       "      <th>Food</th>\n",
       "      <th>Feed</th>\n",
       "      <th>Food</th>\n",
       "      <th>Feed</th>\n",
       "      <th>Food</th>\n",
       "      <th>Feed</th>\n",
       "      <th>Food</th>\n",
       "      <th>Feed</th>\n",
       "      <th>Food</th>\n",
       "      <th>Feed</th>\n",
       "      <th>Food</th>\n",
       "      <th>Feed</th>\n",
       "      <th>Food</th>\n",
       "      <th>Feed</th>\n",
       "      <th>Food</th>\n",
       "    </tr>\n",
       "    <tr>\n",
       "      <th>Area</th>\n",
       "      <th></th>\n",
       "      <th></th>\n",
       "      <th></th>\n",
       "      <th></th>\n",
       "      <th></th>\n",
       "      <th></th>\n",
       "      <th></th>\n",
       "      <th></th>\n",
       "      <th></th>\n",
       "      <th></th>\n",
       "      <th></th>\n",
       "      <th></th>\n",
       "      <th></th>\n",
       "      <th></th>\n",
       "      <th></th>\n",
       "      <th></th>\n",
       "      <th></th>\n",
       "      <th></th>\n",
       "      <th></th>\n",
       "      <th></th>\n",
       "    </tr>\n",
       "  </thead>\n",
       "  <tbody>\n",
       "    <tr>\n",
       "      <th>Afghanistan</th>\n",
       "      <td>704.0</td>\n",
       "      <td>15838.0</td>\n",
       "      <td>1184.0</td>\n",
       "      <td>16474.0</td>\n",
       "      <td>1342.0</td>\n",
       "      <td>16975.0</td>\n",
       "      <td>1392.0</td>\n",
       "      <td>17856.0</td>\n",
       "      <td>1294.0</td>\n",
       "      <td>18087.0</td>\n",
       "      <td>1616.0</td>\n",
       "      <td>19045.0</td>\n",
       "      <td>1388.0</td>\n",
       "      <td>19642.0</td>\n",
       "      <td>1192.0</td>\n",
       "      <td>19908.0</td>\n",
       "      <td>1522</td>\n",
       "      <td>21184</td>\n",
       "      <td>1536</td>\n",
       "      <td>21471</td>\n",
       "    </tr>\n",
       "    <tr>\n",
       "      <th>Albania</th>\n",
       "      <td>990.0</td>\n",
       "      <td>5647.0</td>\n",
       "      <td>994.0</td>\n",
       "      <td>5725.0</td>\n",
       "      <td>1047.0</td>\n",
       "      <td>5864.0</td>\n",
       "      <td>959.0</td>\n",
       "      <td>5785.0</td>\n",
       "      <td>1075.0</td>\n",
       "      <td>6093.0</td>\n",
       "      <td>1134.0</td>\n",
       "      <td>6182.0</td>\n",
       "      <td>1334.0</td>\n",
       "      <td>6573.0</td>\n",
       "      <td>1334.0</td>\n",
       "      <td>6780.0</td>\n",
       "      <td>1312</td>\n",
       "      <td>6909</td>\n",
       "      <td>1319</td>\n",
       "      <td>6952</td>\n",
       "    </tr>\n",
       "    <tr>\n",
       "      <th>Algeria</th>\n",
       "      <td>4575.0</td>\n",
       "      <td>44044.0</td>\n",
       "      <td>4401.0</td>\n",
       "      <td>45161.0</td>\n",
       "      <td>4599.0</td>\n",
       "      <td>46468.0</td>\n",
       "      <td>4252.0</td>\n",
       "      <td>45681.0</td>\n",
       "      <td>3436.0</td>\n",
       "      <td>47480.0</td>\n",
       "      <td>4839.0</td>\n",
       "      <td>52666.0</td>\n",
       "      <td>5804.0</td>\n",
       "      <td>54267.0</td>\n",
       "      <td>7477.0</td>\n",
       "      <td>58375.0</td>\n",
       "      <td>8549</td>\n",
       "      <td>60816</td>\n",
       "      <td>8706</td>\n",
       "      <td>63455</td>\n",
       "    </tr>\n",
       "    <tr>\n",
       "      <th>Angola</th>\n",
       "      <td>9622.0</td>\n",
       "      <td>15919.0</td>\n",
       "      <td>9814.0</td>\n",
       "      <td>16882.0</td>\n",
       "      <td>10004.0</td>\n",
       "      <td>18243.0</td>\n",
       "      <td>10112.0</td>\n",
       "      <td>19765.0</td>\n",
       "      <td>10274.0</td>\n",
       "      <td>21779.0</td>\n",
       "      <td>12520.0</td>\n",
       "      <td>24465.0</td>\n",
       "      <td>12408.0</td>\n",
       "      <td>25992.0</td>\n",
       "      <td>13118.0</td>\n",
       "      <td>27455.0</td>\n",
       "      <td>10096</td>\n",
       "      <td>27968</td>\n",
       "      <td>18518</td>\n",
       "      <td>30121</td>\n",
       "    </tr>\n",
       "    <tr>\n",
       "      <th>Antigua and Barbuda</th>\n",
       "      <td>0.0</td>\n",
       "      <td>92.0</td>\n",
       "      <td>2.0</td>\n",
       "      <td>113.0</td>\n",
       "      <td>2.0</td>\n",
       "      <td>108.0</td>\n",
       "      <td>0.0</td>\n",
       "      <td>122.0</td>\n",
       "      <td>0.0</td>\n",
       "      <td>115.0</td>\n",
       "      <td>0.0</td>\n",
       "      <td>114.0</td>\n",
       "      <td>0.0</td>\n",
       "      <td>115.0</td>\n",
       "      <td>0.0</td>\n",
       "      <td>118.0</td>\n",
       "      <td>0</td>\n",
       "      <td>113</td>\n",
       "      <td>0</td>\n",
       "      <td>119</td>\n",
       "    </tr>\n",
       "  </tbody>\n",
       "</table>\n",
       "</div>"
      ],
      "text/plain": [
       "                      Y2004            Y2005             Y2006           \\\n",
       "Element                Feed     Food    Feed     Food     Feed     Food   \n",
       "Area                                                                      \n",
       "Afghanistan           704.0  15838.0  1184.0  16474.0   1342.0  16975.0   \n",
       "Albania               990.0   5647.0   994.0   5725.0   1047.0   5864.0   \n",
       "Algeria              4575.0  44044.0  4401.0  45161.0   4599.0  46468.0   \n",
       "Angola               9622.0  15919.0  9814.0  16882.0  10004.0  18243.0   \n",
       "Antigua and Barbuda     0.0     92.0     2.0    113.0      2.0    108.0   \n",
       "\n",
       "                       Y2007             Y2008             Y2009           \\\n",
       "Element                 Feed     Food     Feed     Food     Feed     Food   \n",
       "Area                                                                        \n",
       "Afghanistan           1392.0  17856.0   1294.0  18087.0   1616.0  19045.0   \n",
       "Albania                959.0   5785.0   1075.0   6093.0   1134.0   6182.0   \n",
       "Algeria               4252.0  45681.0   3436.0  47480.0   4839.0  52666.0   \n",
       "Angola               10112.0  19765.0  10274.0  21779.0  12520.0  24465.0   \n",
       "Antigua and Barbuda      0.0    122.0      0.0    115.0      0.0    114.0   \n",
       "\n",
       "                       Y2010             Y2011           Y2012         Y2013  \\\n",
       "Element                 Feed     Food     Feed     Food   Feed   Food   Feed   \n",
       "Area                                                                           \n",
       "Afghanistan           1388.0  19642.0   1192.0  19908.0   1522  21184   1536   \n",
       "Albania               1334.0   6573.0   1334.0   6780.0   1312   6909   1319   \n",
       "Algeria               5804.0  54267.0   7477.0  58375.0   8549  60816   8706   \n",
       "Angola               12408.0  25992.0  13118.0  27455.0  10096  27968  18518   \n",
       "Antigua and Barbuda      0.0    115.0      0.0    118.0      0    113      0   \n",
       "\n",
       "                            \n",
       "Element               Food  \n",
       "Area                        \n",
       "Afghanistan          21471  \n",
       "Albania               6952  \n",
       "Algeria              63455  \n",
       "Angola               30121  \n",
       "Antigua and Barbuda    119  "
      ]
     },
     "execution_count": 8,
     "metadata": {},
     "output_type": "execute_result"
    }
   ],
   "source": [
    "df_new.head()"
   ]
  },
  {
   "cell_type": "code",
   "execution_count": 9,
   "metadata": {
    "collapsed": true
   },
   "outputs": [],
   "source": [
    "# Applying transpose to the above data to get it ready for work\n",
    "df_foody = df_new.T"
   ]
  },
  {
   "cell_type": "code",
   "execution_count": 10,
   "metadata": {},
   "outputs": [
    {
     "data": {
      "text/html": [
       "<div>\n",
       "<style>\n",
       "    .dataframe thead tr:only-child th {\n",
       "        text-align: right;\n",
       "    }\n",
       "\n",
       "    .dataframe thead th {\n",
       "        text-align: left;\n",
       "    }\n",
       "\n",
       "    .dataframe tbody tr th {\n",
       "        vertical-align: top;\n",
       "    }\n",
       "</style>\n",
       "<table border=\"1\" class=\"dataframe\">\n",
       "  <thead>\n",
       "    <tr style=\"text-align: right;\">\n",
       "      <th></th>\n",
       "      <th>Area</th>\n",
       "      <th>Afghanistan</th>\n",
       "      <th>Albania</th>\n",
       "      <th>Algeria</th>\n",
       "      <th>Angola</th>\n",
       "      <th>Antigua and Barbuda</th>\n",
       "      <th>Argentina</th>\n",
       "      <th>Armenia</th>\n",
       "      <th>Australia</th>\n",
       "      <th>Austria</th>\n",
       "      <th>Azerbaijan</th>\n",
       "      <th>...</th>\n",
       "      <th>United Republic of Tanzania</th>\n",
       "      <th>United States of America</th>\n",
       "      <th>Uruguay</th>\n",
       "      <th>Uzbekistan</th>\n",
       "      <th>Vanuatu</th>\n",
       "      <th>Venezuela (Bolivarian Republic of)</th>\n",
       "      <th>Viet Nam</th>\n",
       "      <th>Yemen</th>\n",
       "      <th>Zambia</th>\n",
       "      <th>Zimbabwe</th>\n",
       "    </tr>\n",
       "    <tr>\n",
       "      <th></th>\n",
       "      <th>Element</th>\n",
       "      <th></th>\n",
       "      <th></th>\n",
       "      <th></th>\n",
       "      <th></th>\n",
       "      <th></th>\n",
       "      <th></th>\n",
       "      <th></th>\n",
       "      <th></th>\n",
       "      <th></th>\n",
       "      <th></th>\n",
       "      <th></th>\n",
       "      <th></th>\n",
       "      <th></th>\n",
       "      <th></th>\n",
       "      <th></th>\n",
       "      <th></th>\n",
       "      <th></th>\n",
       "      <th></th>\n",
       "      <th></th>\n",
       "      <th></th>\n",
       "      <th></th>\n",
       "    </tr>\n",
       "  </thead>\n",
       "  <tbody>\n",
       "    <tr>\n",
       "      <th rowspan=\"2\" valign=\"top\">Y2004</th>\n",
       "      <th>Feed</th>\n",
       "      <td>704.0</td>\n",
       "      <td>990.0</td>\n",
       "      <td>4575.0</td>\n",
       "      <td>9622.0</td>\n",
       "      <td>0.0</td>\n",
       "      <td>10532.0</td>\n",
       "      <td>1216.0</td>\n",
       "      <td>21884.0</td>\n",
       "      <td>7903.0</td>\n",
       "      <td>2329.0</td>\n",
       "      <td>...</td>\n",
       "      <td>2622.0</td>\n",
       "      <td>362504.0</td>\n",
       "      <td>1462.0</td>\n",
       "      <td>4503.0</td>\n",
       "      <td>10.0</td>\n",
       "      <td>2911.0</td>\n",
       "      <td>18738.0</td>\n",
       "      <td>127.0</td>\n",
       "      <td>102.0</td>\n",
       "      <td>274.0</td>\n",
       "    </tr>\n",
       "    <tr>\n",
       "      <th>Food</th>\n",
       "      <td>15838.0</td>\n",
       "      <td>5647.0</td>\n",
       "      <td>44044.0</td>\n",
       "      <td>15919.0</td>\n",
       "      <td>92.0</td>\n",
       "      <td>54026.0</td>\n",
       "      <td>4299.0</td>\n",
       "      <td>36122.0</td>\n",
       "      <td>16562.0</td>\n",
       "      <td>11205.0</td>\n",
       "      <td>...</td>\n",
       "      <td>39382.0</td>\n",
       "      <td>634991.0</td>\n",
       "      <td>4664.0</td>\n",
       "      <td>29595.0</td>\n",
       "      <td>284.0</td>\n",
       "      <td>30844.0</td>\n",
       "      <td>76724.0</td>\n",
       "      <td>13334.0</td>\n",
       "      <td>7668.0</td>\n",
       "      <td>7944.0</td>\n",
       "    </tr>\n",
       "    <tr>\n",
       "      <th rowspan=\"2\" valign=\"top\">Y2005</th>\n",
       "      <th>Feed</th>\n",
       "      <td>1184.0</td>\n",
       "      <td>994.0</td>\n",
       "      <td>4401.0</td>\n",
       "      <td>9814.0</td>\n",
       "      <td>2.0</td>\n",
       "      <td>14735.0</td>\n",
       "      <td>1092.0</td>\n",
       "      <td>25832.0</td>\n",
       "      <td>7658.0</td>\n",
       "      <td>2242.0</td>\n",
       "      <td>...</td>\n",
       "      <td>3269.0</td>\n",
       "      <td>353682.0</td>\n",
       "      <td>1390.0</td>\n",
       "      <td>6945.0</td>\n",
       "      <td>10.0</td>\n",
       "      <td>1570.0</td>\n",
       "      <td>20009.0</td>\n",
       "      <td>159.0</td>\n",
       "      <td>70.0</td>\n",
       "      <td>251.0</td>\n",
       "    </tr>\n",
       "    <tr>\n",
       "      <th>Food</th>\n",
       "      <td>16474.0</td>\n",
       "      <td>5725.0</td>\n",
       "      <td>45161.0</td>\n",
       "      <td>16882.0</td>\n",
       "      <td>113.0</td>\n",
       "      <td>57581.0</td>\n",
       "      <td>4900.0</td>\n",
       "      <td>37879.0</td>\n",
       "      <td>16808.0</td>\n",
       "      <td>12722.0</td>\n",
       "      <td>...</td>\n",
       "      <td>41043.0</td>\n",
       "      <td>628442.0</td>\n",
       "      <td>4847.0</td>\n",
       "      <td>30899.0</td>\n",
       "      <td>289.0</td>\n",
       "      <td>31853.0</td>\n",
       "      <td>78386.0</td>\n",
       "      <td>13898.0</td>\n",
       "      <td>7877.0</td>\n",
       "      <td>7819.0</td>\n",
       "    </tr>\n",
       "    <tr>\n",
       "      <th>Y2006</th>\n",
       "      <th>Feed</th>\n",
       "      <td>1342.0</td>\n",
       "      <td>1047.0</td>\n",
       "      <td>4599.0</td>\n",
       "      <td>10004.0</td>\n",
       "      <td>2.0</td>\n",
       "      <td>14030.0</td>\n",
       "      <td>962.0</td>\n",
       "      <td>23662.0</td>\n",
       "      <td>7291.0</td>\n",
       "      <td>2203.0</td>\n",
       "      <td>...</td>\n",
       "      <td>3849.0</td>\n",
       "      <td>318577.0</td>\n",
       "      <td>1364.0</td>\n",
       "      <td>7898.0</td>\n",
       "      <td>12.0</td>\n",
       "      <td>2580.0</td>\n",
       "      <td>21500.0</td>\n",
       "      <td>219.0</td>\n",
       "      <td>89.0</td>\n",
       "      <td>292.0</td>\n",
       "    </tr>\n",
       "  </tbody>\n",
       "</table>\n",
       "<p>5 rows × 174 columns</p>\n",
       "</div>"
      ],
      "text/plain": [
       "Area           Afghanistan  Albania  Algeria   Angola  Antigua and Barbuda  \\\n",
       "      Element                                                                \n",
       "Y2004 Feed           704.0    990.0   4575.0   9622.0                  0.0   \n",
       "      Food         15838.0   5647.0  44044.0  15919.0                 92.0   \n",
       "Y2005 Feed          1184.0    994.0   4401.0   9814.0                  2.0   \n",
       "      Food         16474.0   5725.0  45161.0  16882.0                113.0   \n",
       "Y2006 Feed          1342.0   1047.0   4599.0  10004.0                  2.0   \n",
       "\n",
       "Area           Argentina  Armenia  Australia  Austria  Azerbaijan    ...     \\\n",
       "      Element                                                        ...      \n",
       "Y2004 Feed       10532.0   1216.0    21884.0   7903.0      2329.0    ...      \n",
       "      Food       54026.0   4299.0    36122.0  16562.0     11205.0    ...      \n",
       "Y2005 Feed       14735.0   1092.0    25832.0   7658.0      2242.0    ...      \n",
       "      Food       57581.0   4900.0    37879.0  16808.0     12722.0    ...      \n",
       "Y2006 Feed       14030.0    962.0    23662.0   7291.0      2203.0    ...      \n",
       "\n",
       "Area           United Republic of Tanzania  United States of America  Uruguay  \\\n",
       "      Element                                                                   \n",
       "Y2004 Feed                          2622.0                  362504.0   1462.0   \n",
       "      Food                         39382.0                  634991.0   4664.0   \n",
       "Y2005 Feed                          3269.0                  353682.0   1390.0   \n",
       "      Food                         41043.0                  628442.0   4847.0   \n",
       "Y2006 Feed                          3849.0                  318577.0   1364.0   \n",
       "\n",
       "Area           Uzbekistan  Vanuatu  Venezuela (Bolivarian Republic of)  \\\n",
       "      Element                                                            \n",
       "Y2004 Feed         4503.0     10.0                              2911.0   \n",
       "      Food        29595.0    284.0                             30844.0   \n",
       "Y2005 Feed         6945.0     10.0                              1570.0   \n",
       "      Food        30899.0    289.0                             31853.0   \n",
       "Y2006 Feed         7898.0     12.0                              2580.0   \n",
       "\n",
       "Area           Viet Nam    Yemen  Zambia  Zimbabwe  \n",
       "      Element                                       \n",
       "Y2004 Feed      18738.0    127.0   102.0     274.0  \n",
       "      Food      76724.0  13334.0  7668.0    7944.0  \n",
       "Y2005 Feed      20009.0    159.0    70.0     251.0  \n",
       "      Food      78386.0  13898.0  7877.0    7819.0  \n",
       "Y2006 Feed      21500.0    219.0    89.0     292.0  \n",
       "\n",
       "[5 rows x 174 columns]"
      ]
     },
     "execution_count": 10,
     "metadata": {},
     "output_type": "execute_result"
    }
   ],
   "source": [
    "df_foody.head()"
   ]
  },
  {
   "cell_type": "code",
   "execution_count": 11,
   "metadata": {
    "collapsed": true
   },
   "outputs": [],
   "source": [
    "# Extracting only food produced\n",
    "df_food = df_foody.xs('Food', level=1, axis=0)"
   ]
  },
  {
   "cell_type": "code",
   "execution_count": 12,
   "metadata": {},
   "outputs": [
    {
     "data": {
      "text/html": [
       "<div>\n",
       "<style>\n",
       "    .dataframe thead tr:only-child th {\n",
       "        text-align: right;\n",
       "    }\n",
       "\n",
       "    .dataframe thead th {\n",
       "        text-align: left;\n",
       "    }\n",
       "\n",
       "    .dataframe tbody tr th {\n",
       "        vertical-align: top;\n",
       "    }\n",
       "</style>\n",
       "<table border=\"1\" class=\"dataframe\">\n",
       "  <thead>\n",
       "    <tr style=\"text-align: right;\">\n",
       "      <th>Area</th>\n",
       "      <th>Afghanistan</th>\n",
       "      <th>Albania</th>\n",
       "      <th>Algeria</th>\n",
       "      <th>Angola</th>\n",
       "      <th>Antigua and Barbuda</th>\n",
       "      <th>Argentina</th>\n",
       "      <th>Armenia</th>\n",
       "      <th>Australia</th>\n",
       "      <th>Austria</th>\n",
       "      <th>Azerbaijan</th>\n",
       "      <th>...</th>\n",
       "      <th>United Republic of Tanzania</th>\n",
       "      <th>United States of America</th>\n",
       "      <th>Uruguay</th>\n",
       "      <th>Uzbekistan</th>\n",
       "      <th>Vanuatu</th>\n",
       "      <th>Venezuela (Bolivarian Republic of)</th>\n",
       "      <th>Viet Nam</th>\n",
       "      <th>Yemen</th>\n",
       "      <th>Zambia</th>\n",
       "      <th>Zimbabwe</th>\n",
       "    </tr>\n",
       "  </thead>\n",
       "  <tbody>\n",
       "    <tr>\n",
       "      <th>Y2004</th>\n",
       "      <td>15838.0</td>\n",
       "      <td>5647.0</td>\n",
       "      <td>44044.0</td>\n",
       "      <td>15919.0</td>\n",
       "      <td>92.0</td>\n",
       "      <td>54026.0</td>\n",
       "      <td>4299.0</td>\n",
       "      <td>36122.0</td>\n",
       "      <td>16562.0</td>\n",
       "      <td>11205.0</td>\n",
       "      <td>...</td>\n",
       "      <td>39382.0</td>\n",
       "      <td>634991.0</td>\n",
       "      <td>4664.0</td>\n",
       "      <td>29595.0</td>\n",
       "      <td>284.0</td>\n",
       "      <td>30844.0</td>\n",
       "      <td>76724.0</td>\n",
       "      <td>13334.0</td>\n",
       "      <td>7668.0</td>\n",
       "      <td>7944.0</td>\n",
       "    </tr>\n",
       "    <tr>\n",
       "      <th>Y2005</th>\n",
       "      <td>16474.0</td>\n",
       "      <td>5725.0</td>\n",
       "      <td>45161.0</td>\n",
       "      <td>16882.0</td>\n",
       "      <td>113.0</td>\n",
       "      <td>57581.0</td>\n",
       "      <td>4900.0</td>\n",
       "      <td>37879.0</td>\n",
       "      <td>16808.0</td>\n",
       "      <td>12722.0</td>\n",
       "      <td>...</td>\n",
       "      <td>41043.0</td>\n",
       "      <td>628442.0</td>\n",
       "      <td>4847.0</td>\n",
       "      <td>30899.0</td>\n",
       "      <td>289.0</td>\n",
       "      <td>31853.0</td>\n",
       "      <td>78386.0</td>\n",
       "      <td>13898.0</td>\n",
       "      <td>7877.0</td>\n",
       "      <td>7819.0</td>\n",
       "    </tr>\n",
       "    <tr>\n",
       "      <th>Y2006</th>\n",
       "      <td>16975.0</td>\n",
       "      <td>5864.0</td>\n",
       "      <td>46468.0</td>\n",
       "      <td>18243.0</td>\n",
       "      <td>108.0</td>\n",
       "      <td>58116.0</td>\n",
       "      <td>5266.0</td>\n",
       "      <td>38902.0</td>\n",
       "      <td>16739.0</td>\n",
       "      <td>13536.0</td>\n",
       "      <td>...</td>\n",
       "      <td>43813.0</td>\n",
       "      <td>630314.0</td>\n",
       "      <td>4785.0</td>\n",
       "      <td>33868.0</td>\n",
       "      <td>302.0</td>\n",
       "      <td>32779.0</td>\n",
       "      <td>78283.0</td>\n",
       "      <td>14633.0</td>\n",
       "      <td>8188.0</td>\n",
       "      <td>8289.0</td>\n",
       "    </tr>\n",
       "    <tr>\n",
       "      <th>Y2007</th>\n",
       "      <td>17856.0</td>\n",
       "      <td>5785.0</td>\n",
       "      <td>45681.0</td>\n",
       "      <td>19765.0</td>\n",
       "      <td>122.0</td>\n",
       "      <td>59078.0</td>\n",
       "      <td>5425.0</td>\n",
       "      <td>40055.0</td>\n",
       "      <td>17104.0</td>\n",
       "      <td>13803.0</td>\n",
       "      <td>...</td>\n",
       "      <td>45628.0</td>\n",
       "      <td>636954.0</td>\n",
       "      <td>5209.0</td>\n",
       "      <td>35370.0</td>\n",
       "      <td>321.0</td>\n",
       "      <td>35988.0</td>\n",
       "      <td>82369.0</td>\n",
       "      <td>15655.0</td>\n",
       "      <td>8113.0</td>\n",
       "      <td>8315.0</td>\n",
       "    </tr>\n",
       "    <tr>\n",
       "      <th>Y2008</th>\n",
       "      <td>18087.0</td>\n",
       "      <td>6093.0</td>\n",
       "      <td>47480.0</td>\n",
       "      <td>21779.0</td>\n",
       "      <td>115.0</td>\n",
       "      <td>61350.0</td>\n",
       "      <td>5537.0</td>\n",
       "      <td>40928.0</td>\n",
       "      <td>17266.0</td>\n",
       "      <td>13848.0</td>\n",
       "      <td>...</td>\n",
       "      <td>44395.0</td>\n",
       "      <td>627922.0</td>\n",
       "      <td>5069.0</td>\n",
       "      <td>37430.0</td>\n",
       "      <td>331.0</td>\n",
       "      <td>39117.0</td>\n",
       "      <td>84200.0</td>\n",
       "      <td>15985.0</td>\n",
       "      <td>8518.0</td>\n",
       "      <td>8243.0</td>\n",
       "    </tr>\n",
       "  </tbody>\n",
       "</table>\n",
       "<p>5 rows × 174 columns</p>\n",
       "</div>"
      ],
      "text/plain": [
       "Area   Afghanistan  Albania  Algeria   Angola  Antigua and Barbuda  Argentina  \\\n",
       "Y2004      15838.0   5647.0  44044.0  15919.0                 92.0    54026.0   \n",
       "Y2005      16474.0   5725.0  45161.0  16882.0                113.0    57581.0   \n",
       "Y2006      16975.0   5864.0  46468.0  18243.0                108.0    58116.0   \n",
       "Y2007      17856.0   5785.0  45681.0  19765.0                122.0    59078.0   \n",
       "Y2008      18087.0   6093.0  47480.0  21779.0                115.0    61350.0   \n",
       "\n",
       "Area   Armenia  Australia  Austria  Azerbaijan    ...     \\\n",
       "Y2004   4299.0    36122.0  16562.0     11205.0    ...      \n",
       "Y2005   4900.0    37879.0  16808.0     12722.0    ...      \n",
       "Y2006   5266.0    38902.0  16739.0     13536.0    ...      \n",
       "Y2007   5425.0    40055.0  17104.0     13803.0    ...      \n",
       "Y2008   5537.0    40928.0  17266.0     13848.0    ...      \n",
       "\n",
       "Area   United Republic of Tanzania  United States of America  Uruguay  \\\n",
       "Y2004                      39382.0                  634991.0   4664.0   \n",
       "Y2005                      41043.0                  628442.0   4847.0   \n",
       "Y2006                      43813.0                  630314.0   4785.0   \n",
       "Y2007                      45628.0                  636954.0   5209.0   \n",
       "Y2008                      44395.0                  627922.0   5069.0   \n",
       "\n",
       "Area   Uzbekistan  Vanuatu  Venezuela (Bolivarian Republic of)  Viet Nam  \\\n",
       "Y2004     29595.0    284.0                             30844.0   76724.0   \n",
       "Y2005     30899.0    289.0                             31853.0   78386.0   \n",
       "Y2006     33868.0    302.0                             32779.0   78283.0   \n",
       "Y2007     35370.0    321.0                             35988.0   82369.0   \n",
       "Y2008     37430.0    331.0                             39117.0   84200.0   \n",
       "\n",
       "Area     Yemen  Zambia  Zimbabwe  \n",
       "Y2004  13334.0  7668.0    7944.0  \n",
       "Y2005  13898.0  7877.0    7819.0  \n",
       "Y2006  14633.0  8188.0    8289.0  \n",
       "Y2007  15655.0  8113.0    8315.0  \n",
       "Y2008  15985.0  8518.0    8243.0  \n",
       "\n",
       "[5 rows x 174 columns]"
      ]
     },
     "execution_count": 12,
     "metadata": {},
     "output_type": "execute_result"
    }
   ],
   "source": [
    "df_food.head()"
   ]
  },
  {
   "cell_type": "code",
   "execution_count": 13,
   "metadata": {
    "collapsed": true
   },
   "outputs": [],
   "source": [
    "# Finding the Top 5 food producer countries over the 10 years\n",
    "df_food_total = df_food.sum(axis=0).sort_values(ascending=False).head()"
   ]
  },
  {
   "cell_type": "code",
   "execution_count": 14,
   "metadata": {},
   "outputs": [
    {
     "data": {
      "text/plain": [
       "Area\n",
       "China, mainland             22090365.0\n",
       "India                       10774362.0\n",
       "United States of America     6327371.0\n",
       "Brazil                       2925111.0\n",
       "Russian Federation           2491508.0\n",
       "dtype: float64"
      ]
     },
     "execution_count": 14,
     "metadata": {},
     "output_type": "execute_result"
    }
   ],
   "source": [
    "df_food_total"
   ]
  },
  {
   "cell_type": "code",
   "execution_count": 15,
   "metadata": {},
   "outputs": [
    {
     "data": {
      "text/plain": [
       "<matplotlib.axes._subplots.AxesSubplot at 0x7f488e060208>"
      ]
     },
     "execution_count": 15,
     "metadata": {},
     "output_type": "execute_result"
    },
    {
     "data": {
      "image/png": "[encoded data removed]",
      "text/plain": [
       "<matplotlib.figure.Figure at 0x7f488e0ec940>"
      ]
     },
     "metadata": {},
     "output_type": "display_data"
    }
   ],
   "source": [
    "df_food_total.plot(kind='bar', title='Top 5 Food Producers', color='green')"
   ]
  },
  {
   "cell_type": "code",
   "execution_count": 16,
   "metadata": {},
   "outputs": [
    {
     "data": {
      "text/plain": [
       "Index(['China, mainland', 'India', 'United States of America', 'Brazil',\n",
       "       'Russian Federation'],\n",
       "      dtype='object', name='Area')"
      ]
     },
     "execution_count": 16,
     "metadata": {},
     "output_type": "execute_result"
    }
   ],
   "source": [
    "df_food_total.index"
   ]
  },
  {
   "cell_type": "code",
   "execution_count": 17,
   "metadata": {},
   "outputs": [
    {
     "data": {
      "text/plain": [
       "Index(['Y2004', 'Y2005', 'Y2006', 'Y2007', 'Y2008', 'Y2009', 'Y2010', 'Y2011',\n",
       "       'Y2012', 'Y2013'],\n",
       "      dtype='object')"
      ]
     },
     "execution_count": 17,
     "metadata": {},
     "output_type": "execute_result"
    }
   ],
   "source": [
    "df_food.index"
   ]
  },
  {
   "cell_type": "code",
   "execution_count": 18,
   "metadata": {},
   "outputs": [
    {
     "data": {
      "image/png": "[encoded data removed]",
      "text/plain": [
       "<matplotlib.figure.Figure at 0x7f488e060c88>"
      ]
     },
     "metadata": {},
     "output_type": "display_data"
    }
   ],
   "source": [
    "# Visualising the food produced by top 5 countries over the 10 years\n",
    "plt.figure(figsize = (10,6))\n",
    "for i in df_food_total.index:\n",
    "    year = df_food[i]\n",
    "    plt.plot(year, marker='p')\n",
    "    plt.xticks(df_food.index, rotation='vertical')\n",
    "    plt.legend(loc='right')"
   ]
  },
  {
   "cell_type": "code",
   "execution_count": 19,
   "metadata": {
    "collapsed": true
   },
   "outputs": [],
   "source": [
    "# extracting the food consumers\n",
    "df_feed =  df_new.T.xs('Feed',level=1, axis=0)"
   ]
  },
  {
   "cell_type": "code",
   "execution_count": 20,
   "metadata": {},
   "outputs": [
    {
     "data": {
      "text/html": [
       "<div>\n",
       "<style>\n",
       "    .dataframe thead tr:only-child th {\n",
       "        text-align: right;\n",
       "    }\n",
       "\n",
       "    .dataframe thead th {\n",
       "        text-align: left;\n",
       "    }\n",
       "\n",
       "    .dataframe tbody tr th {\n",
       "        vertical-align: top;\n",
       "    }\n",
       "</style>\n",
       "<table border=\"1\" class=\"dataframe\">\n",
       "  <thead>\n",
       "    <tr style=\"text-align: right;\">\n",
       "      <th>Area</th>\n",
       "      <th>Afghanistan</th>\n",
       "      <th>Albania</th>\n",
       "      <th>Algeria</th>\n",
       "      <th>Angola</th>\n",
       "      <th>Antigua and Barbuda</th>\n",
       "      <th>Argentina</th>\n",
       "      <th>Armenia</th>\n",
       "      <th>Australia</th>\n",
       "      <th>Austria</th>\n",
       "      <th>Azerbaijan</th>\n",
       "      <th>...</th>\n",
       "      <th>United Republic of Tanzania</th>\n",
       "      <th>United States of America</th>\n",
       "      <th>Uruguay</th>\n",
       "      <th>Uzbekistan</th>\n",
       "      <th>Vanuatu</th>\n",
       "      <th>Venezuela (Bolivarian Republic of)</th>\n",
       "      <th>Viet Nam</th>\n",
       "      <th>Yemen</th>\n",
       "      <th>Zambia</th>\n",
       "      <th>Zimbabwe</th>\n",
       "    </tr>\n",
       "  </thead>\n",
       "  <tbody>\n",
       "    <tr>\n",
       "      <th>Y2004</th>\n",
       "      <td>704.0</td>\n",
       "      <td>990.0</td>\n",
       "      <td>4575.0</td>\n",
       "      <td>9622.0</td>\n",
       "      <td>0.0</td>\n",
       "      <td>10532.0</td>\n",
       "      <td>1216.0</td>\n",
       "      <td>21884.0</td>\n",
       "      <td>7903.0</td>\n",
       "      <td>2329.0</td>\n",
       "      <td>...</td>\n",
       "      <td>2622.0</td>\n",
       "      <td>362504.0</td>\n",
       "      <td>1462.0</td>\n",
       "      <td>4503.0</td>\n",
       "      <td>10.0</td>\n",
       "      <td>2911.0</td>\n",
       "      <td>18738.0</td>\n",
       "      <td>127.0</td>\n",
       "      <td>102.0</td>\n",
       "      <td>274.0</td>\n",
       "    </tr>\n",
       "    <tr>\n",
       "      <th>Y2005</th>\n",
       "      <td>1184.0</td>\n",
       "      <td>994.0</td>\n",
       "      <td>4401.0</td>\n",
       "      <td>9814.0</td>\n",
       "      <td>2.0</td>\n",
       "      <td>14735.0</td>\n",
       "      <td>1092.0</td>\n",
       "      <td>25832.0</td>\n",
       "      <td>7658.0</td>\n",
       "      <td>2242.0</td>\n",
       "      <td>...</td>\n",
       "      <td>3269.0</td>\n",
       "      <td>353682.0</td>\n",
       "      <td>1390.0</td>\n",
       "      <td>6945.0</td>\n",
       "      <td>10.0</td>\n",
       "      <td>1570.0</td>\n",
       "      <td>20009.0</td>\n",
       "      <td>159.0</td>\n",
       "      <td>70.0</td>\n",
       "      <td>251.0</td>\n",
       "    </tr>\n",
       "    <tr>\n",
       "      <th>Y2006</th>\n",
       "      <td>1342.0</td>\n",
       "      <td>1047.0</td>\n",
       "      <td>4599.0</td>\n",
       "      <td>10004.0</td>\n",
       "      <td>2.0</td>\n",
       "      <td>14030.0</td>\n",
       "      <td>962.0</td>\n",
       "      <td>23662.0</td>\n",
       "      <td>7291.0</td>\n",
       "      <td>2203.0</td>\n",
       "      <td>...</td>\n",
       "      <td>3849.0</td>\n",
       "      <td>318577.0</td>\n",
       "      <td>1364.0</td>\n",
       "      <td>7898.0</td>\n",
       "      <td>12.0</td>\n",
       "      <td>2580.0</td>\n",
       "      <td>21500.0</td>\n",
       "      <td>219.0</td>\n",
       "      <td>89.0</td>\n",
       "      <td>292.0</td>\n",
       "    </tr>\n",
       "    <tr>\n",
       "      <th>Y2007</th>\n",
       "      <td>1392.0</td>\n",
       "      <td>959.0</td>\n",
       "      <td>4252.0</td>\n",
       "      <td>10112.0</td>\n",
       "      <td>0.0</td>\n",
       "      <td>15070.0</td>\n",
       "      <td>1328.0</td>\n",
       "      <td>22582.0</td>\n",
       "      <td>7327.0</td>\n",
       "      <td>2941.0</td>\n",
       "      <td>...</td>\n",
       "      <td>3661.0</td>\n",
       "      <td>328510.0</td>\n",
       "      <td>1748.0</td>\n",
       "      <td>10017.0</td>\n",
       "      <td>10.0</td>\n",
       "      <td>4006.0</td>\n",
       "      <td>21892.0</td>\n",
       "      <td>409.0</td>\n",
       "      <td>76.0</td>\n",
       "      <td>230.0</td>\n",
       "    </tr>\n",
       "    <tr>\n",
       "      <th>Y2008</th>\n",
       "      <td>1294.0</td>\n",
       "      <td>1075.0</td>\n",
       "      <td>3436.0</td>\n",
       "      <td>10274.0</td>\n",
       "      <td>0.0</td>\n",
       "      <td>14589.0</td>\n",
       "      <td>1421.0</td>\n",
       "      <td>23510.0</td>\n",
       "      <td>8001.0</td>\n",
       "      <td>3115.0</td>\n",
       "      <td>...</td>\n",
       "      <td>4274.0</td>\n",
       "      <td>308173.0</td>\n",
       "      <td>1982.0</td>\n",
       "      <td>10990.0</td>\n",
       "      <td>12.0</td>\n",
       "      <td>4240.0</td>\n",
       "      <td>20362.0</td>\n",
       "      <td>216.0</td>\n",
       "      <td>94.0</td>\n",
       "      <td>249.0</td>\n",
       "    </tr>\n",
       "  </tbody>\n",
       "</table>\n",
       "<p>5 rows × 174 columns</p>\n",
       "</div>"
      ],
      "text/plain": [
       "Area   Afghanistan  Albania  Algeria   Angola  Antigua and Barbuda  Argentina  \\\n",
       "Y2004        704.0    990.0   4575.0   9622.0                  0.0    10532.0   \n",
       "Y2005       1184.0    994.0   4401.0   9814.0                  2.0    14735.0   \n",
       "Y2006       1342.0   1047.0   4599.0  10004.0                  2.0    14030.0   \n",
       "Y2007       1392.0    959.0   4252.0  10112.0                  0.0    15070.0   \n",
       "Y2008       1294.0   1075.0   3436.0  10274.0                  0.0    14589.0   \n",
       "\n",
       "Area   Armenia  Australia  Austria  Azerbaijan    ...     \\\n",
       "Y2004   1216.0    21884.0   7903.0      2329.0    ...      \n",
       "Y2005   1092.0    25832.0   7658.0      2242.0    ...      \n",
       "Y2006    962.0    23662.0   7291.0      2203.0    ...      \n",
       "Y2007   1328.0    22582.0   7327.0      2941.0    ...      \n",
       "Y2008   1421.0    23510.0   8001.0      3115.0    ...      \n",
       "\n",
       "Area   United Republic of Tanzania  United States of America  Uruguay  \\\n",
       "Y2004                       2622.0                  362504.0   1462.0   \n",
       "Y2005                       3269.0                  353682.0   1390.0   \n",
       "Y2006                       3849.0                  318577.0   1364.0   \n",
       "Y2007                       3661.0                  328510.0   1748.0   \n",
       "Y2008                       4274.0                  308173.0   1982.0   \n",
       "\n",
       "Area   Uzbekistan  Vanuatu  Venezuela (Bolivarian Republic of)  Viet Nam  \\\n",
       "Y2004      4503.0     10.0                              2911.0   18738.0   \n",
       "Y2005      6945.0     10.0                              1570.0   20009.0   \n",
       "Y2006      7898.0     12.0                              2580.0   21500.0   \n",
       "Y2007     10017.0     10.0                              4006.0   21892.0   \n",
       "Y2008     10990.0     12.0                              4240.0   20362.0   \n",
       "\n",
       "Area   Yemen  Zambia  Zimbabwe  \n",
       "Y2004  127.0   102.0     274.0  \n",
       "Y2005  159.0    70.0     251.0  \n",
       "Y2006  219.0    89.0     292.0  \n",
       "Y2007  409.0    76.0     230.0  \n",
       "Y2008  216.0    94.0     249.0  \n",
       "\n",
       "[5 rows x 174 columns]"
      ]
     },
     "execution_count": 20,
     "metadata": {},
     "output_type": "execute_result"
    }
   ],
   "source": [
    "df_feed.head()"
   ]
  },
  {
   "cell_type": "code",
   "execution_count": 21,
   "metadata": {
    "collapsed": true
   },
   "outputs": [],
   "source": [
    "# Top 5 food consumers\n",
    "df_feed_total = df_feed.sum(axis=0).sort_values(ascending=False).head()"
   ]
  },
  {
   "cell_type": "code",
   "execution_count": 22,
   "metadata": {},
   "outputs": [
    {
     "data": {
      "text/plain": [
       "<matplotlib.axes._subplots.AxesSubplot at 0x7f488cea2da0>"
      ]
     },
     "execution_count": 22,
     "metadata": {},
     "output_type": "execute_result"
    },
    {
     "data": {
      "image/png": "[encoded data removed]",
      "text/plain": [
       "<matplotlib.figure.Figure at 0x7f488ce2bf98>"
      ]
     },
     "metadata": {},
     "output_type": "display_data"
    }
   ],
   "source": [
    "df_feed_total.plot(kind='bar', title=\"Top 5 Food Consumers\", color='red')"
   ]
  },
  {
   "cell_type": "code",
   "execution_count": 23,
   "metadata": {},
   "outputs": [
    {
     "data": {
      "text/plain": [
       "Index(['China, mainland', 'United States of America', 'Brazil',\n",
       "       'Russian Federation', 'India'],\n",
       "      dtype='object', name='Area')"
      ]
     },
     "execution_count": 23,
     "metadata": {},
     "output_type": "execute_result"
    }
   ],
   "source": [
    "df_feed_total.index"
   ]
  },
  {
   "cell_type": "code",
   "execution_count": 24,
   "metadata": {},
   "outputs": [
    {
     "data": {
      "image/png": "[encoded data removed]",
      "text/plain": [
       "<matplotlib.figure.Figure at 0x7f488cda8b38>"
      ]
     },
     "metadata": {},
     "output_type": "display_data"
    },
    {
     "data": {
      "image/png": "[encoded data removed]",
      "text/plain": [
       "<matplotlib.figure.Figure at 0x7f488cea75c0>"
      ]
     },
     "metadata": {},
     "output_type": "display_data"
    },
    {
     "data": {
      "image/png": "[encoded data removed]",
      "text/plain": [
       "<matplotlib.figure.Figure at 0x7f488cdf68d0>"
      ]
     },
     "metadata": {},
     "output_type": "display_data"
    },
    {
     "data": {
      "image/png": "[encoded data removed]",
      "text/plain": [
       "<matplotlib.figure.Figure at 0x7f4886acee48>"
      ]
     },
     "metadata": {},
     "output_type": "display_data"
    },
    {
     "data": {
      "image/png": "[encoded data removed]",
      "text/plain": [
       "<matplotlib.figure.Figure at 0x7f4886a1dcc0>"
      ]
     },
     "metadata": {},
     "output_type": "display_data"
    }
   ],
   "source": [
    "# to compare the feed of top 5 food producer\n",
    "# plt.figure(figsize=(16,8))\n",
    "for j in df_food_total.index:\n",
    "    plt.figure(figsize=(6,3))\n",
    "    plt.plot(df_feed[j], marker='o', color='b')\n",
    "    plt.plot(df_food[j], marker='o', color='r')\n",
    "    plt.xticks(df_feed.index, rotation='vertical')\n",
    "    plt.legend(loc='best')\n",
    "    plt.show()"
   ]
  },
  {
   "cell_type": "markdown",
   "metadata": {},
   "source": [
    "## larget producer of a certain food\n",
    "#### which food is produced more and by whom and who consumes that particular food more?\n",
    "#### which food is consumed more and by whom and who produce it?"
   ]
  },
  {
   "cell_type": "markdown",
   "metadata": {},
   "source": [
    "### Cleaning the data, removing all NaN values"
   ]
  },
  {
   "cell_type": "code",
   "execution_count": 25,
   "metadata": {
    "collapsed": true
   },
   "outputs": [],
   "source": [
    "df = df.dropna(axis=0, how='any')"
   ]
  },
  {
   "cell_type": "code",
   "execution_count": 26,
   "metadata": {
    "collapsed": true
   },
   "outputs": [],
   "source": [
    "# dropping the unnecessary Columns\n",
    "df.drop(['Area Abbreviation', 'Area Code', 'Item Code', 'Element Code', 'Unit', 'latitude', 'longitude'], axis=1, inplace=True)"
   ]
  },
  {
   "cell_type": "code",
   "execution_count": 27,
   "metadata": {},
   "outputs": [
    {
     "data": {
      "text/html": [
       "<div>\n",
       "<style>\n",
       "    .dataframe thead tr:only-child th {\n",
       "        text-align: right;\n",
       "    }\n",
       "\n",
       "    .dataframe thead th {\n",
       "        text-align: left;\n",
       "    }\n",
       "\n",
       "    .dataframe tbody tr th {\n",
       "        vertical-align: top;\n",
       "    }\n",
       "</style>\n",
       "<table border=\"1\" class=\"dataframe\">\n",
       "  <thead>\n",
       "    <tr style=\"text-align: right;\">\n",
       "      <th></th>\n",
       "      <th>Area</th>\n",
       "      <th>Item</th>\n",
       "      <th>Element</th>\n",
       "      <th>Y1961</th>\n",
       "      <th>Y1962</th>\n",
       "      <th>Y1963</th>\n",
       "      <th>Y1964</th>\n",
       "      <th>Y1965</th>\n",
       "      <th>Y1966</th>\n",
       "      <th>Y1967</th>\n",
       "      <th>...</th>\n",
       "      <th>Y2004</th>\n",
       "      <th>Y2005</th>\n",
       "      <th>Y2006</th>\n",
       "      <th>Y2007</th>\n",
       "      <th>Y2008</th>\n",
       "      <th>Y2009</th>\n",
       "      <th>Y2010</th>\n",
       "      <th>Y2011</th>\n",
       "      <th>Y2012</th>\n",
       "      <th>Y2013</th>\n",
       "    </tr>\n",
       "  </thead>\n",
       "  <tbody>\n",
       "    <tr>\n",
       "      <th>0</th>\n",
       "      <td>Afghanistan</td>\n",
       "      <td>Wheat and products</td>\n",
       "      <td>Food</td>\n",
       "      <td>1928.0</td>\n",
       "      <td>1904.0</td>\n",
       "      <td>1666.0</td>\n",
       "      <td>1950.0</td>\n",
       "      <td>2001.0</td>\n",
       "      <td>1808.0</td>\n",
       "      <td>2053.0</td>\n",
       "      <td>...</td>\n",
       "      <td>3249.0</td>\n",
       "      <td>3486.0</td>\n",
       "      <td>3704.0</td>\n",
       "      <td>4164.0</td>\n",
       "      <td>4252.0</td>\n",
       "      <td>4538.0</td>\n",
       "      <td>4605.0</td>\n",
       "      <td>4711.0</td>\n",
       "      <td>4810</td>\n",
       "      <td>4895</td>\n",
       "    </tr>\n",
       "    <tr>\n",
       "      <th>1</th>\n",
       "      <td>Afghanistan</td>\n",
       "      <td>Rice (Milled Equivalent)</td>\n",
       "      <td>Food</td>\n",
       "      <td>183.0</td>\n",
       "      <td>183.0</td>\n",
       "      <td>182.0</td>\n",
       "      <td>220.0</td>\n",
       "      <td>220.0</td>\n",
       "      <td>195.0</td>\n",
       "      <td>231.0</td>\n",
       "      <td>...</td>\n",
       "      <td>419.0</td>\n",
       "      <td>445.0</td>\n",
       "      <td>546.0</td>\n",
       "      <td>455.0</td>\n",
       "      <td>490.0</td>\n",
       "      <td>415.0</td>\n",
       "      <td>442.0</td>\n",
       "      <td>476.0</td>\n",
       "      <td>425</td>\n",
       "      <td>422</td>\n",
       "    </tr>\n",
       "    <tr>\n",
       "      <th>2</th>\n",
       "      <td>Afghanistan</td>\n",
       "      <td>Barley and products</td>\n",
       "      <td>Feed</td>\n",
       "      <td>76.0</td>\n",
       "      <td>76.0</td>\n",
       "      <td>76.0</td>\n",
       "      <td>76.0</td>\n",
       "      <td>76.0</td>\n",
       "      <td>75.0</td>\n",
       "      <td>71.0</td>\n",
       "      <td>...</td>\n",
       "      <td>58.0</td>\n",
       "      <td>236.0</td>\n",
       "      <td>262.0</td>\n",
       "      <td>263.0</td>\n",
       "      <td>230.0</td>\n",
       "      <td>379.0</td>\n",
       "      <td>315.0</td>\n",
       "      <td>203.0</td>\n",
       "      <td>367</td>\n",
       "      <td>360</td>\n",
       "    </tr>\n",
       "    <tr>\n",
       "      <th>3</th>\n",
       "      <td>Afghanistan</td>\n",
       "      <td>Barley and products</td>\n",
       "      <td>Food</td>\n",
       "      <td>237.0</td>\n",
       "      <td>237.0</td>\n",
       "      <td>237.0</td>\n",
       "      <td>238.0</td>\n",
       "      <td>238.0</td>\n",
       "      <td>237.0</td>\n",
       "      <td>225.0</td>\n",
       "      <td>...</td>\n",
       "      <td>185.0</td>\n",
       "      <td>43.0</td>\n",
       "      <td>44.0</td>\n",
       "      <td>48.0</td>\n",
       "      <td>62.0</td>\n",
       "      <td>55.0</td>\n",
       "      <td>60.0</td>\n",
       "      <td>72.0</td>\n",
       "      <td>78</td>\n",
       "      <td>89</td>\n",
       "    </tr>\n",
       "    <tr>\n",
       "      <th>4</th>\n",
       "      <td>Afghanistan</td>\n",
       "      <td>Maize and products</td>\n",
       "      <td>Feed</td>\n",
       "      <td>210.0</td>\n",
       "      <td>210.0</td>\n",
       "      <td>214.0</td>\n",
       "      <td>216.0</td>\n",
       "      <td>216.0</td>\n",
       "      <td>216.0</td>\n",
       "      <td>235.0</td>\n",
       "      <td>...</td>\n",
       "      <td>120.0</td>\n",
       "      <td>208.0</td>\n",
       "      <td>233.0</td>\n",
       "      <td>249.0</td>\n",
       "      <td>247.0</td>\n",
       "      <td>195.0</td>\n",
       "      <td>178.0</td>\n",
       "      <td>191.0</td>\n",
       "      <td>200</td>\n",
       "      <td>200</td>\n",
       "    </tr>\n",
       "  </tbody>\n",
       "</table>\n",
       "<p>5 rows × 56 columns</p>\n",
       "</div>"
      ],
      "text/plain": [
       "          Area                      Item Element   Y1961   Y1962   Y1963  \\\n",
       "0  Afghanistan        Wheat and products    Food  1928.0  1904.0  1666.0   \n",
       "1  Afghanistan  Rice (Milled Equivalent)    Food   183.0   183.0   182.0   \n",
       "2  Afghanistan       Barley and products    Feed    76.0    76.0    76.0   \n",
       "3  Afghanistan       Barley and products    Food   237.0   237.0   237.0   \n",
       "4  Afghanistan        Maize and products    Feed   210.0   210.0   214.0   \n",
       "\n",
       "    Y1964   Y1965   Y1966   Y1967  ...     Y2004   Y2005   Y2006   Y2007  \\\n",
       "0  1950.0  2001.0  1808.0  2053.0  ...    3249.0  3486.0  3704.0  4164.0   \n",
       "1   220.0   220.0   195.0   231.0  ...     419.0   445.0   546.0   455.0   \n",
       "2    76.0    76.0    75.0    71.0  ...      58.0   236.0   262.0   263.0   \n",
       "3   238.0   238.0   237.0   225.0  ...     185.0    43.0    44.0    48.0   \n",
       "4   216.0   216.0   216.0   235.0  ...     120.0   208.0   233.0   249.0   \n",
       "\n",
       "    Y2008   Y2009   Y2010   Y2011  Y2012  Y2013  \n",
       "0  4252.0  4538.0  4605.0  4711.0   4810   4895  \n",
       "1   490.0   415.0   442.0   476.0    425    422  \n",
       "2   230.0   379.0   315.0   203.0    367    360  \n",
       "3    62.0    55.0    60.0    72.0     78     89  \n",
       "4   247.0   195.0   178.0   191.0    200    200  \n",
       "\n",
       "[5 rows x 56 columns]"
      ]
     },
     "execution_count": 27,
     "metadata": {},
     "output_type": "execute_result"
    }
   ],
   "source": [
    "df.head()"
   ]
  },
  {
   "cell_type": "code",
   "execution_count": 28,
   "metadata": {
    "collapsed": true
   },
   "outputs": [],
   "source": [
    "df_temp = df.set_index(['Element','Area','Item'])"
   ]
  },
  {
   "cell_type": "code",
   "execution_count": 29,
   "metadata": {},
   "outputs": [
    {
     "data": {
      "text/html": [
       "<div>\n",
       "<style>\n",
       "    .dataframe thead tr:only-child th {\n",
       "        text-align: right;\n",
       "    }\n",
       "\n",
       "    .dataframe thead th {\n",
       "        text-align: left;\n",
       "    }\n",
       "\n",
       "    .dataframe tbody tr th {\n",
       "        vertical-align: top;\n",
       "    }\n",
       "</style>\n",
       "<table border=\"1\" class=\"dataframe\">\n",
       "  <thead>\n",
       "    <tr style=\"text-align: right;\">\n",
       "      <th></th>\n",
       "      <th></th>\n",
       "      <th></th>\n",
       "      <th>Y1961</th>\n",
       "      <th>Y1962</th>\n",
       "      <th>Y1963</th>\n",
       "      <th>Y1964</th>\n",
       "      <th>Y1965</th>\n",
       "      <th>Y1966</th>\n",
       "      <th>Y1967</th>\n",
       "      <th>Y1968</th>\n",
       "      <th>Y1969</th>\n",
       "      <th>Y1970</th>\n",
       "      <th>...</th>\n",
       "      <th>Y2004</th>\n",
       "      <th>Y2005</th>\n",
       "      <th>Y2006</th>\n",
       "      <th>Y2007</th>\n",
       "      <th>Y2008</th>\n",
       "      <th>Y2009</th>\n",
       "      <th>Y2010</th>\n",
       "      <th>Y2011</th>\n",
       "      <th>Y2012</th>\n",
       "      <th>Y2013</th>\n",
       "    </tr>\n",
       "    <tr>\n",
       "      <th>Element</th>\n",
       "      <th>Area</th>\n",
       "      <th>Item</th>\n",
       "      <th></th>\n",
       "      <th></th>\n",
       "      <th></th>\n",
       "      <th></th>\n",
       "      <th></th>\n",
       "      <th></th>\n",
       "      <th></th>\n",
       "      <th></th>\n",
       "      <th></th>\n",
       "      <th></th>\n",
       "      <th></th>\n",
       "      <th></th>\n",
       "      <th></th>\n",
       "      <th></th>\n",
       "      <th></th>\n",
       "      <th></th>\n",
       "      <th></th>\n",
       "      <th></th>\n",
       "      <th></th>\n",
       "      <th></th>\n",
       "      <th></th>\n",
       "    </tr>\n",
       "  </thead>\n",
       "  <tbody>\n",
       "    <tr>\n",
       "      <th rowspan=\"2\" valign=\"top\">Food</th>\n",
       "      <th rowspan=\"2\" valign=\"top\">Afghanistan</th>\n",
       "      <th>Wheat and products</th>\n",
       "      <td>1928.0</td>\n",
       "      <td>1904.0</td>\n",
       "      <td>1666.0</td>\n",
       "      <td>1950.0</td>\n",
       "      <td>2001.0</td>\n",
       "      <td>1808.0</td>\n",
       "      <td>2053.0</td>\n",
       "      <td>2045.0</td>\n",
       "      <td>2154.0</td>\n",
       "      <td>1819.0</td>\n",
       "      <td>...</td>\n",
       "      <td>3249.0</td>\n",
       "      <td>3486.0</td>\n",
       "      <td>3704.0</td>\n",
       "      <td>4164.0</td>\n",
       "      <td>4252.0</td>\n",
       "      <td>4538.0</td>\n",
       "      <td>4605.0</td>\n",
       "      <td>4711.0</td>\n",
       "      <td>4810</td>\n",
       "      <td>4895</td>\n",
       "    </tr>\n",
       "    <tr>\n",
       "      <th>Rice (Milled Equivalent)</th>\n",
       "      <td>183.0</td>\n",
       "      <td>183.0</td>\n",
       "      <td>182.0</td>\n",
       "      <td>220.0</td>\n",
       "      <td>220.0</td>\n",
       "      <td>195.0</td>\n",
       "      <td>231.0</td>\n",
       "      <td>235.0</td>\n",
       "      <td>238.0</td>\n",
       "      <td>213.0</td>\n",
       "      <td>...</td>\n",
       "      <td>419.0</td>\n",
       "      <td>445.0</td>\n",
       "      <td>546.0</td>\n",
       "      <td>455.0</td>\n",
       "      <td>490.0</td>\n",
       "      <td>415.0</td>\n",
       "      <td>442.0</td>\n",
       "      <td>476.0</td>\n",
       "      <td>425</td>\n",
       "      <td>422</td>\n",
       "    </tr>\n",
       "    <tr>\n",
       "      <th>Feed</th>\n",
       "      <th>Afghanistan</th>\n",
       "      <th>Barley and products</th>\n",
       "      <td>76.0</td>\n",
       "      <td>76.0</td>\n",
       "      <td>76.0</td>\n",
       "      <td>76.0</td>\n",
       "      <td>76.0</td>\n",
       "      <td>75.0</td>\n",
       "      <td>71.0</td>\n",
       "      <td>72.0</td>\n",
       "      <td>73.0</td>\n",
       "      <td>74.0</td>\n",
       "      <td>...</td>\n",
       "      <td>58.0</td>\n",
       "      <td>236.0</td>\n",
       "      <td>262.0</td>\n",
       "      <td>263.0</td>\n",
       "      <td>230.0</td>\n",
       "      <td>379.0</td>\n",
       "      <td>315.0</td>\n",
       "      <td>203.0</td>\n",
       "      <td>367</td>\n",
       "      <td>360</td>\n",
       "    </tr>\n",
       "    <tr>\n",
       "      <th>Food</th>\n",
       "      <th>Afghanistan</th>\n",
       "      <th>Barley and products</th>\n",
       "      <td>237.0</td>\n",
       "      <td>237.0</td>\n",
       "      <td>237.0</td>\n",
       "      <td>238.0</td>\n",
       "      <td>238.0</td>\n",
       "      <td>237.0</td>\n",
       "      <td>225.0</td>\n",
       "      <td>227.0</td>\n",
       "      <td>230.0</td>\n",
       "      <td>234.0</td>\n",
       "      <td>...</td>\n",
       "      <td>185.0</td>\n",
       "      <td>43.0</td>\n",
       "      <td>44.0</td>\n",
       "      <td>48.0</td>\n",
       "      <td>62.0</td>\n",
       "      <td>55.0</td>\n",
       "      <td>60.0</td>\n",
       "      <td>72.0</td>\n",
       "      <td>78</td>\n",
       "      <td>89</td>\n",
       "    </tr>\n",
       "    <tr>\n",
       "      <th>Feed</th>\n",
       "      <th>Afghanistan</th>\n",
       "      <th>Maize and products</th>\n",
       "      <td>210.0</td>\n",
       "      <td>210.0</td>\n",
       "      <td>214.0</td>\n",
       "      <td>216.0</td>\n",
       "      <td>216.0</td>\n",
       "      <td>216.0</td>\n",
       "      <td>235.0</td>\n",
       "      <td>232.0</td>\n",
       "      <td>236.0</td>\n",
       "      <td>200.0</td>\n",
       "      <td>...</td>\n",
       "      <td>120.0</td>\n",
       "      <td>208.0</td>\n",
       "      <td>233.0</td>\n",
       "      <td>249.0</td>\n",
       "      <td>247.0</td>\n",
       "      <td>195.0</td>\n",
       "      <td>178.0</td>\n",
       "      <td>191.0</td>\n",
       "      <td>200</td>\n",
       "      <td>200</td>\n",
       "    </tr>\n",
       "  </tbody>\n",
       "</table>\n",
       "<p>5 rows × 53 columns</p>\n",
       "</div>"
      ],
      "text/plain": [
       "                                               Y1961   Y1962   Y1963   Y1964  \\\n",
       "Element Area        Item                                                       \n",
       "Food    Afghanistan Wheat and products        1928.0  1904.0  1666.0  1950.0   \n",
       "                    Rice (Milled Equivalent)   183.0   183.0   182.0   220.0   \n",
       "Feed    Afghanistan Barley and products         76.0    76.0    76.0    76.0   \n",
       "Food    Afghanistan Barley and products        237.0   237.0   237.0   238.0   \n",
       "Feed    Afghanistan Maize and products         210.0   210.0   214.0   216.0   \n",
       "\n",
       "                                               Y1965   Y1966   Y1967   Y1968  \\\n",
       "Element Area        Item                                                       \n",
       "Food    Afghanistan Wheat and products        2001.0  1808.0  2053.0  2045.0   \n",
       "                    Rice (Milled Equivalent)   220.0   195.0   231.0   235.0   \n",
       "Feed    Afghanistan Barley and products         76.0    75.0    71.0    72.0   \n",
       "Food    Afghanistan Barley and products        238.0   237.0   225.0   227.0   \n",
       "Feed    Afghanistan Maize and products         216.0   216.0   235.0   232.0   \n",
       "\n",
       "                                               Y1969   Y1970  ...     Y2004  \\\n",
       "Element Area        Item                                      ...             \n",
       "Food    Afghanistan Wheat and products        2154.0  1819.0  ...    3249.0   \n",
       "                    Rice (Milled Equivalent)   238.0   213.0  ...     419.0   \n",
       "Feed    Afghanistan Barley and products         73.0    74.0  ...      58.0   \n",
       "Food    Afghanistan Barley and products        230.0   234.0  ...     185.0   \n",
       "Feed    Afghanistan Maize and products         236.0   200.0  ...     120.0   \n",
       "\n",
       "                                               Y2005   Y2006   Y2007   Y2008  \\\n",
       "Element Area        Item                                                       \n",
       "Food    Afghanistan Wheat and products        3486.0  3704.0  4164.0  4252.0   \n",
       "                    Rice (Milled Equivalent)   445.0   546.0   455.0   490.0   \n",
       "Feed    Afghanistan Barley and products        236.0   262.0   263.0   230.0   \n",
       "Food    Afghanistan Barley and products         43.0    44.0    48.0    62.0   \n",
       "Feed    Afghanistan Maize and products         208.0   233.0   249.0   247.0   \n",
       "\n",
       "                                               Y2009   Y2010   Y2011  Y2012  \\\n",
       "Element Area        Item                                                      \n",
       "Food    Afghanistan Wheat and products        4538.0  4605.0  4711.0   4810   \n",
       "                    Rice (Milled Equivalent)   415.0   442.0   476.0    425   \n",
       "Feed    Afghanistan Barley and products        379.0   315.0   203.0    367   \n",
       "Food    Afghanistan Barley and products         55.0    60.0    72.0     78   \n",
       "Feed    Afghanistan Maize and products         195.0   178.0   191.0    200   \n",
       "\n",
       "                                              Y2013  \n",
       "Element Area        Item                             \n",
       "Food    Afghanistan Wheat and products         4895  \n",
       "                    Rice (Milled Equivalent)    422  \n",
       "Feed    Afghanistan Barley and products         360  \n",
       "Food    Afghanistan Barley and products          89  \n",
       "Feed    Afghanistan Maize and products          200  \n",
       "\n",
       "[5 rows x 53 columns]"
      ]
     },
     "execution_count": 29,
     "metadata": {},
     "output_type": "execute_result"
    }
   ],
   "source": [
    "df_temp.head()"
   ]
  },
  {
   "cell_type": "markdown",
   "metadata": {},
   "source": [
    "## Top 10 Highest produced food"
   ]
  },
  {
   "cell_type": "code",
   "execution_count": 30,
   "metadata": {
    "collapsed": true
   },
   "outputs": [],
   "source": [
    "food = df_temp.xs('Food', level=0)"
   ]
  },
  {
   "cell_type": "code",
   "execution_count": 31,
   "metadata": {
    "collapsed": true
   },
   "outputs": [],
   "source": [
    "df_item = (df.pivot_table(values =year_list, columns='Element',index=['Item'], aggfunc='sum')).T"
   ]
  },
  {
   "cell_type": "code",
   "execution_count": 32,
   "metadata": {
    "collapsed": true
   },
   "outputs": [],
   "source": [
    "df_top_food = df_item.xs('Food',level=1).sum(axis=0).sort_values(ascending=False).head(10)"
   ]
  },
  {
   "cell_type": "code",
   "execution_count": 33,
   "metadata": {},
   "outputs": [
    {
     "data": {
      "text/plain": [
       "Item\n",
       "Milk - Excluding Butter     10246872.0\n",
       "Cereals - Excluding Beer     9082257.0\n",
       "Vegetables                   8216657.0\n",
       "Vegetables, Other            6435872.0\n",
       "Fruits - Excluding Wine      4561297.0\n",
       "Wheat and products           3902810.0\n",
       "Starchy Roots                3723792.0\n",
       "Rice (Milled Equivalent)     3552834.0\n",
       "Meat                         2534703.0\n",
       "Alcoholic Beverages          2177747.0\n",
       "dtype: float64"
      ]
     },
     "execution_count": 33,
     "metadata": {},
     "output_type": "execute_result"
    }
   ],
   "source": [
    "df_top_food"
   ]
  },
  {
   "cell_type": "code",
   "execution_count": 34,
   "metadata": {},
   "outputs": [
    {
     "data": {
      "text/plain": [
       "<matplotlib.axes._subplots.AxesSubplot at 0x7f4886a4d8d0>"
      ]
     },
     "execution_count": 34,
     "metadata": {},
     "output_type": "execute_result"
    },
    {
     "data": {
      "image/png": "[encoded data removed]",
      "text/plain": [
       "<matplotlib.figure.Figure at 0x7f4886abf668>"
      ]
     },
     "metadata": {},
     "output_type": "display_data"
    }
   ],
   "source": [
    "df_top_food.plot(kind='bar', title='Top 10 highest produced Food', color='green')"
   ]
  },
  {
   "cell_type": "markdown",
   "metadata": {},
   "source": [
    "## Top 10 Food Consumed"
   ]
  },
  {
   "cell_type": "code",
   "execution_count": 35,
   "metadata": {
    "collapsed": true
   },
   "outputs": [],
   "source": [
    "feed = df_temp.xs('Feed', level=0)"
   ]
  },
  {
   "cell_type": "code",
   "execution_count": 36,
   "metadata": {
    "collapsed": true
   },
   "outputs": [],
   "source": [
    "df_top_feed = df_item.xs('Feed',level=1).sum(axis=0).sort_values(ascending=False).head(10)"
   ]
  },
  {
   "cell_type": "code",
   "execution_count": 37,
   "metadata": {},
   "outputs": [
    {
     "data": {
      "text/plain": [
       "Item\n",
       "Cereals - Excluding Beer    6989416.0\n",
       "Maize and products          4494251.0\n",
       "Starchy Roots               1402843.0\n",
       "Milk - Excluding Butter     1071284.0\n",
       "Wheat and products           893322.0\n",
       "Cassava and products         752280.0\n",
       "Barley and products          686746.0\n",
       "Sweet potatoes               404187.0\n",
       "Vegetables                   384063.0\n",
       "Vegetables, Other            366443.0\n",
       "dtype: float64"
      ]
     },
     "execution_count": 37,
     "metadata": {},
     "output_type": "execute_result"
    }
   ],
   "source": [
    "df_top_feed"
   ]
  },
  {
   "cell_type": "code",
   "execution_count": 38,
   "metadata": {},
   "outputs": [
    {
     "data": {
      "text/plain": [
       "<matplotlib.axes._subplots.AxesSubplot at 0x7f4886abf128>"
      ]
     },
     "execution_count": 38,
     "metadata": {},
     "output_type": "execute_result"
    },
    {
     "data": {
      "image/png": "[encoded data removed]",
      "text/plain": [
       "<matplotlib.figure.Figure at 0x7f4886a4d588>"
      ]
     },
     "metadata": {},
     "output_type": "display_data"
    }
   ],
   "source": [
    "df_top_feed.plot(kind='bar', title='Top 10 highest Food consumed', color='red')"
   ]
  },
  {
   "cell_type": "markdown",
   "metadata": {},
   "source": [
    "## Top 10 countries producing the top most Produced Food"
   ]
  },
  {
   "cell_type": "code",
   "execution_count": 39,
   "metadata": {
    "collapsed": true
   },
   "outputs": [],
   "source": [
    "# top most produced food\n",
    "top_food = df_top_food.head(1).index[0]"
   ]
  },
  {
   "cell_type": "code",
   "execution_count": 40,
   "metadata": {},
   "outputs": [
    {
     "data": {
      "text/plain": [
       "'Milk - Excluding Butter'"
      ]
     },
     "execution_count": 40,
     "metadata": {},
     "output_type": "execute_result"
    }
   ],
   "source": [
    "top_food"
   ]
  },
  {
   "cell_type": "code",
   "execution_count": 41,
   "metadata": {
    "collapsed": true
   },
   "outputs": [],
   "source": [
    "top_food_producing_countries = df_temp.xs('Food',level=0).xs(top_food, level=1).sum(axis=1).sort_values(ascending=False).head(10)"
   ]
  },
  {
   "cell_type": "code",
   "execution_count": 42,
   "metadata": {},
   "outputs": [
    {
     "data": {
      "text/plain": [
       "Area\n",
       "United States of America    3353075.0\n",
       "United States of America    3353075.0\n",
       "India                       2443021.0\n",
       "India                       2443021.0\n",
       "Germany                      918055.0\n",
       "Germany                      918055.0\n",
       "Pakistan                     762844.0\n",
       "Pakistan                     762844.0\n",
       "France                       756657.0\n",
       "France                       756657.0\n",
       "dtype: float64"
      ]
     },
     "execution_count": 42,
     "metadata": {},
     "output_type": "execute_result"
    }
   ],
   "source": [
    "top_food_producing_countries"
   ]
  },
  {
   "cell_type": "code",
   "execution_count": 43,
   "metadata": {},
   "outputs": [
    {
     "data": {
      "text/plain": [
       "<matplotlib.axes._subplots.AxesSubplot at 0x7f4886a721d0>"
      ]
     },
     "execution_count": 43,
     "metadata": {},
     "output_type": "execute_result"
    },
    {
     "data": {
      "image/png": "[encoded data removed]",
      "text/plain": [
       "<matplotlib.figure.Figure at 0x7f488cec93c8>"
      ]
     },
     "metadata": {},
     "output_type": "display_data"
    }
   ],
   "source": [
    "top_food_producing_countries.plot(kind='bar',title=f'Top 10 Countries producing top produced food -> {top_food}', color='green')"
   ]
  },
  {
   "cell_type": "markdown",
   "metadata": {},
   "source": [
    "## Top 10 countries consuming the top most Produced Food"
   ]
  },
  {
   "cell_type": "code",
   "execution_count": 44,
   "metadata": {
    "collapsed": true
   },
   "outputs": [],
   "source": [
    "top_food_consuming_countries = df_temp.xs('Feed',level=0).xs(top_food, level=1).sum(axis=1).sort_values(ascending=False).head(10)"
   ]
  },
  {
   "cell_type": "code",
   "execution_count": 45,
   "metadata": {},
   "outputs": [
    {
     "data": {
      "text/plain": [
       "Area\n",
       "India          433698.0\n",
       "India          433698.0\n",
       "Germany        383297.0\n",
       "Germany        383297.0\n",
       "France         291865.0\n",
       "France         291865.0\n",
       "Poland         205037.0\n",
       "Poland         205037.0\n",
       "Netherlands    150389.0\n",
       "Netherlands    150389.0\n",
       "dtype: float64"
      ]
     },
     "execution_count": 45,
     "metadata": {},
     "output_type": "execute_result"
    }
   ],
   "source": [
    "top_food_consuming_countries"
   ]
  },
  {
   "cell_type": "code",
   "execution_count": 46,
   "metadata": {},
   "outputs": [
    {
     "data": {
      "text/plain": [
       "<matplotlib.axes._subplots.AxesSubplot at 0x7f488ced7b38>"
      ]
     },
     "execution_count": 46,
     "metadata": {},
     "output_type": "execute_result"
    },
    {
     "data": {
      "image/png": "[encoded data removed]",
      "text/plain": [
       "<matplotlib.figure.Figure at 0x7f488cdd3e10>"
      ]
     },
     "metadata": {},
     "output_type": "display_data"
    }
   ],
   "source": [
    "top_food_consuming_countries.plot(kind='bar',title=f'Top 10 Countries consuming top produced food -> {top_food}', color='red')"
   ]
  },
  {
   "cell_type": "markdown",
   "metadata": {},
   "source": [
    "## Top 10 countries Producing the top most Consumed Food"
   ]
  },
  {
   "cell_type": "code",
   "execution_count": 47,
   "metadata": {
    "collapsed": true
   },
   "outputs": [],
   "source": [
    "# top most consumed food\n",
    "top_feed = df_top_feed.head(1).index[0]"
   ]
  },
  {
   "cell_type": "code",
   "execution_count": 48,
   "metadata": {},
   "outputs": [
    {
     "data": {
      "text/plain": [
       "'Cereals - Excluding Beer'"
      ]
     },
     "execution_count": 48,
     "metadata": {},
     "output_type": "execute_result"
    }
   ],
   "source": [
    "top_feed"
   ]
  },
  {
   "cell_type": "code",
   "execution_count": 49,
   "metadata": {
    "collapsed": true
   },
   "outputs": [],
   "source": [
    "top_feed_producing_countries = df_temp.xs('Food',level=0).xs(top_feed, level=1).sum(axis=1).sort_values(ascending=False).head(10)"
   ]
  },
  {
   "cell_type": "code",
   "execution_count": 50,
   "metadata": {},
   "outputs": [
    {
     "data": {
      "text/plain": [
       "Area\n",
       "United States of America    3353075.0\n",
       "United States of America    3353075.0\n",
       "India                       2443021.0\n",
       "India                       2443021.0\n",
       "Germany                      918055.0\n",
       "Germany                      918055.0\n",
       "Pakistan                     762844.0\n",
       "Pakistan                     762844.0\n",
       "France                       756657.0\n",
       "France                       756657.0\n",
       "dtype: float64"
      ]
     },
     "execution_count": 50,
     "metadata": {},
     "output_type": "execute_result"
    }
   ],
   "source": [
    "top_food_producing_countries"
   ]
  },
  {
   "cell_type": "code",
   "execution_count": 51,
   "metadata": {},
   "outputs": [
    {
     "data": {
      "text/plain": [
       "<matplotlib.axes._subplots.AxesSubplot at 0x7f4886a4c080>"
      ]
     },
     "execution_count": 51,
     "metadata": {},
     "output_type": "execute_result"
    },
    {
     "data": {
      "image/png": "[encoded data removed]",
      "text/plain": [
       "<matplotlib.figure.Figure at 0x7f4886984438>"
      ]
     },
     "metadata": {},
     "output_type": "display_data"
    }
   ],
   "source": [
    "top_food_producing_countries.plot(kind='bar',title=f'Top 10 Countries producing top Consumed food -> {top_feed}', color='green')"
   ]
  },
  {
   "cell_type": "markdown",
   "metadata": {},
   "source": [
    "## Top 10 countries Consuming the top most Consumed Food"
   ]
  },
  {
   "cell_type": "code",
   "execution_count": 52,
   "metadata": {
    "collapsed": true
   },
   "outputs": [],
   "source": [
    "top_feed_consuming_countries = df_temp.xs('Feed',level=0).xs(top_feed, level=1).sum(axis=1).sort_values(ascending=False).head(10)"
   ]
  },
  {
   "cell_type": "code",
   "execution_count": 53,
   "metadata": {},
   "outputs": [
    {
     "data": {
      "text/plain": [
       "Area\n",
       "United States of America    7408504.0\n",
       "China, mainland             4084713.0\n",
       "Germany                     1195781.0\n",
       "Brazil                      1080445.0\n",
       "Canada                       985532.0\n",
       "France                       961991.0\n",
       "Poland                       799870.0\n",
       "Japan                        762874.0\n",
       "Spain                        760095.0\n",
       "Italy                        609997.0\n",
       "dtype: float64"
      ]
     },
     "execution_count": 53,
     "metadata": {},
     "output_type": "execute_result"
    }
   ],
   "source": [
    "top_feed_consuming_countries"
   ]
  },
  {
   "cell_type": "code",
   "execution_count": 54,
   "metadata": {},
   "outputs": [
    {
     "data": {
      "text/plain": [
       "<matplotlib.axes._subplots.AxesSubplot at 0x7f488cd8c668>"
      ]
     },
     "execution_count": 54,
     "metadata": {},
     "output_type": "execute_result"
    },
    {
     "data": {
      "image/png": "[encoded data removed]",
      "text/plain": [
       "<matplotlib.figure.Figure at 0x7f4886a42ef0>"
      ]
     },
     "metadata": {},
     "output_type": "display_data"
    }
   ],
   "source": [
    "top_feed_consuming_countries.plot(kind='bar',title=f'Top 10 Countries Consuming the top consumed food -> {top_feed}', color='red')"
   ]
  },
  {
   "cell_type": "markdown",
   "metadata": {
    "collapsed": true
   },
   "source": [
    "### For India"
   ]
  },
  {
   "cell_type": "code",
   "execution_count": 55,
   "metadata": {},
   "outputs": [],
   "source": [
    "df_india_food = df_temp.xs('Food',level=0).xs('India',level=0).sum(axis=1).sort_values(ascending=False).drop_duplicates().head(10)"
   ]
  },
  {
   "cell_type": "code",
   "execution_count": 56,
   "metadata": {},
   "outputs": [
    {
     "data": {
      "text/plain": [
       "<matplotlib.axes._subplots.AxesSubplot at 0x7f4886a90780>"
      ]
     },
     "execution_count": 56,
     "metadata": {},
     "output_type": "execute_result"
    },
    {
     "data": {
      "image/png": "[encoded data removed]",
      "text/plain": [
       "<matplotlib.figure.Figure at 0x7f4886aab390>"
      ]
     },
     "metadata": {},
     "output_type": "display_data"
    }
   ],
   "source": [
    "df_india_food.plot(kind='bar', title='Top 10 Food Item produced', color='green')"
   ]
  },
  {
   "cell_type": "code",
   "execution_count": 57,
   "metadata": {
    "collapsed": true
   },
   "outputs": [],
   "source": [
    "df_india_feed = df_temp.xs('Feed',level=0).xs('India',level=0).sum(axis=1).sort_values(ascending=False).drop_duplicates().head(10)"
   ]
  },
  {
   "cell_type": "code",
   "execution_count": 58,
   "metadata": {},
   "outputs": [
    {
     "data": {
      "text/plain": [
       "<matplotlib.axes._subplots.AxesSubplot at 0x7f4886953588>"
      ]
     },
     "execution_count": 58,
     "metadata": {},
     "output_type": "execute_result"
    },
    {
     "data": {
      "image/png": "[encoded data removed]",
      "text/plain": [
       "<matplotlib.figure.Figure at 0x7f48868ca278>"
      ]
     },
     "metadata": {},
     "output_type": "display_data"
    }
   ],
   "source": [
    "df_india_feed.plot(kind='bar', title='Top 10 Food Item Consumed',color='red')"
   ]
  },
  {
   "cell_type": "markdown",
   "metadata": {},
   "source": [
    "## India Food vs Feed in last 10 years"
   ]
  },
  {
   "cell_type": "code",
   "execution_count": 72,
   "metadata": {},
   "outputs": [
    {
     "data": {
      "text/plain": [
       "<matplotlib.axes._subplots.AxesSubplot at 0x7f488634d320>"
      ]
     },
     "execution_count": 72,
     "metadata": {},
     "output_type": "execute_result"
    },
    {
     "data": {
      "image/png": "[encoded data removed]",
      "text/plain": [
       "<matplotlib.figure.Figure at 0x7f4886772d68>"
      ]
     },
     "metadata": {},
     "output_type": "display_data"
    }
   ],
   "source": [
    "df_temp.xs('India', level=1).xs('Food', level=0).sum(axis=0).tail(10).plot(kind='line', color='green')\n",
    "df_temp.xs('India', level=1).xs('Feed', level=0).sum(axis=0).tail(10).plot(kind='line',title='Food vs Feed in India', color='red')"
   ]
  },
  {
   "cell_type": "code",
   "execution_count": null,
   "metadata": {
    "collapsed": true
   },
   "outputs": [],
   "source": []
  }
 ],
 "metadata": {
  "kernelspec": {
   "display_name": "Python 3",
   "language": "python",
   "name": "python3"
  },
  "language_info": {
   "codemirror_mode": {
    "name": "ipython",
    "version": 3
   },
   "file_extension": ".py",
   "mimetype": "text/x-python",
   "name": "python",
   "nbconvert_exporter": "python",
   "pygments_lexer": "ipython3",
   "version": "3.6.3"
  }
 },
 "nbformat": 4,
 "nbformat_minor": 2
}
